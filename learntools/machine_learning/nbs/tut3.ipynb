{
 "cells": [
  {
   "cell_type": "markdown",
   "metadata": {
    "_cell_guid": "dc1e7b02-f022-48ca-a270-21f4b0c70835",
    "_uuid": "0696f41450f17b2e0ebbbbb30a29053cde7de211"
   },
   "source": [
    "**[Machine Learning Course Home Page](kaggle.com/learn/machine-learning).**\n",
    "\n",
    "---\n",
    "\n",
    "# Selecting and Data for Modeling\n",
    "Your dataset had  too many variables to wrap your head around, or even to print out nicely.  How can you pare down this overwhelming amount of data to something you can understand?\n",
    "\n",
    "To show you the techniques, we'll start by picking a few variables using our intuition. Later tutorials will show you statistical techniques to  automatically prioritize variables.\n",
    "\n",
    "To choose variables/columns, we'll need to see a list of all columns in the dataset. That is done with the **columns** property of the DataFrame (the bottom line of code below).\n"
   ]
  },
  {
   "cell_type": "code",
   "execution_count": null,
   "metadata": {},
   "outputs": [],
   "source": [
    "import pandas as pd\n",
    "\n",
    "melbourne_file_path = '../input/melbourne-housing-snapshot/melb_data.csv'\n",
    "melbourne_data = pd.read_csv(melbourne_file_path) \n",
    "print(melbourne_data.columns)"
   ]
  },
  {
   "cell_type": "code",
   "execution_count": null,
   "metadata": {},
   "outputs": [],
   "source": [
    "# The Melbourne data has somemissing values (some houses for which some variables weren't recorded.)\n",
    "# We'll learn to handle missing values in a later tutorial.  \n",
    "# Your Iowa data doesn't have missing values in the predictors you use. \n",
    "# So we will take the simplest option for now, and drop those houses from our data. \n",
    "#Don't worry about this much for now, though the code is:\n",
    "\n",
    "# dropna drops missing values (think of na as \"not available\")\n",
    "melbourne_data = melbourne_data.dropna(axis=0)"
   ]
  },
  {
   "cell_type": "markdown",
   "metadata": {},
   "source": [
    "There are many ways to select a subset of your data. The [Pandas Course](https://www.kaggle.com/learn/pandas) covers these in more depth. But we can get our data set up for modeling with just two of these approaches.\n",
    "\n",
    "1. Dot notation, which we use to select the \"prediction target\"\n",
    "2. Selecting with a column list, which we use to select the \"predictors\"\n",
    "\n",
    "## Selecting The Prediction Target \n",
    "You can pull out a variable with **dot-notation**.  This single column is stored in a **Series**, which is broadly like a DataFrame with only a single column of data.  \n",
    "\n",
    "We'll use the dot notation to select the column we want to predict, which is called the **prediction target**. By convention, the prediction target is called **y**. So the code we need to save the house prices in the Melbourne data is"
   ]
  },
  {
   "cell_type": "code",
   "execution_count": null,
   "metadata": {
    "_cell_guid": "e5a6c21c-cda7-4df8-a9e9-15a2ae865026",
    "_uuid": "599dc0855ff966c6e8d84b5bd447b315bf85e339",
    "collapsed": true
   },
   "outputs": [],
   "source": [
    "y = melbourne_data.Price"
   ]
  },
  {
   "cell_type": "markdown",
   "metadata": {
    "_cell_guid": "a52b0b8d-ea0a-435b-bde1-1472f63977ba",
    "_uuid": "a0fac0889241e77f2e2deefbd63bc9f057d0c826"
   },
   "source": [
    "# Choosing Predictors\n",
    "Next we select the predictors. Sometimes, you will want to use all of the variables except the target. Other times you'll be better off with fewer variables. We'll build a simple model first and then you'll see how to iterate and compare different sets of predictors.\n",
    "\n",
    "We'll select multiple columns to use as predictors by providing a list of column names inside brackets. Remember, each item in that list should be a string (with quotes).\n",
    "\n",
    "Here is an example:"
   ]
  },
  {
   "cell_type": "code",
   "execution_count": 1,
   "metadata": {
    "_cell_guid": "b45e6964-5379-44b5-980c-11e556f34a4f",
    "_uuid": "001553f51fbd9c115b7728e625fd6c2830852071",
    "collapsed": true
   },
   "outputs": [],
   "source": [
    "melbourne_predictors = ['Rooms', 'Bathroom', 'Landsize', 'Lattitude', 'Longtitude']"
   ]
  },
  {
   "cell_type": "markdown",
   "metadata": {
    "_cell_guid": "e30af6f8-45b8-4e33-9c3b-52a88266aee6",
    "_uuid": "f9d9562f7d3a41042c3bb3beb64056993703735d"
   },
   "source": [
    "By convention, this data is called **X**."
   ]
  },
  {
   "cell_type": "code",
   "execution_count": null,
   "metadata": {
    "_cell_guid": "f3ce77d5-06e2-4433-b392-16d54014d2c8",
    "_uuid": "19b3d59d66644a58125cb8d41636a169d4c10af9",
    "collapsed": true
   },
   "outputs": [],
   "source": [
    "X = melbourne_data[melbourne_predictors]"
   ]
  },
  {
   "cell_type": "markdown",
   "metadata": {},
   "source": [
    "Let's quickly review the data we'll be using to predict house prices using the `describe` method and the `head` method, which shows the top few rows."
   ]
  },
  {
   "cell_type": "code",
   "execution_count": null,
   "metadata": {},
   "outputs": [],
   "source": [
    "print(X.describe())\n",
    "print(X.head())"
   ]
  },
  {
   "cell_type": "markdown",
   "metadata": {},
   "source": [
    "Visually checking your data with these commands is an important part of a data scientist's job.  You'll frequently find surprises in the dataset that deserve further inspection (e.g. to verify the data you have is correct)."
   ]
  },
  {
   "cell_type": "markdown",
   "metadata": {
    "_cell_guid": "acd7ddac-58c4-403c-b39f-d648a6bd271c",
    "_uuid": "8a4f43b00b0243645d5d12ef0ae402c8106bf10f"
   },
   "source": [
    "---\n",
    "# Building Your Model\n",
    "\n",
    "You will use the **scikit-learn** library to create your models.  When coding, this library is written as **sklearn**, as you will see in the sample code. Scikit-learn is easily the most popular library for modeling the types of data typically stored in DataFrames. \n",
    "\n",
    "The steps to building and using a model are:\n",
    "* **Define:** What type of model will it be?  A decision tree?  Some other type of model? Some other parameters of the model type are specified too.\n",
    "* **Fit:** Capture patterns from provided data. This is the heart of modeling.\n",
    "* **Predict:** Just what it sounds like\n",
    "* **Evaluate**: Determine how accurate the model's predictions are.\n",
    "\n",
    "Here is the example for defining and fitting the model."
   ]
  },
  {
   "cell_type": "code",
   "execution_count": null,
   "metadata": {
    "_cell_guid": "8a390b1d-ae2a-4b73-b524-0dfde22879f7",
    "_uuid": "4d35fb0ec4c75f00d91f1d7d668af4afdd6d19fe",
    "collapsed": true
   },
   "outputs": [],
   "source": [
    "from sklearn.tree import DecisionTreeRegressor\n",
    "\n",
    "# Define model. Specify a number for random_state to ensure same results each run\n",
    "melbourne_model = DecisionTreeRegressor(random_state=1)\n",
    "\n",
    "# Fit model\n",
    "melbourne_model.fit(X, y)"
   ]
  },
  {
   "cell_type": "markdown",
   "metadata": {
    "_cell_guid": "60aade6d-4f6c-482e-9e93-bffa1bc51e7b",
    "_uuid": "1ff19fb070af2b731ce8343dbfea16708ce437bb"
   },
   "source": [
    "Many machine learning models allow some randomness in model training. Specifying a number for `random_state` ensures you get the same results in each run. This is considered a good practice. You use any number, and model quality won't depend meaningfully on exactly what value you choose.\n",
    "\n",
    "We now have a fitted model that we can use to make predictions.\n",
    "\n",
    "In practice, you'll want to make predictions for new houses coming on the market rather than the houses we already have prices for. But we'll make predictions for the first few rows of the training data to see how the predict function works.\n"
   ]
  },
  {
   "cell_type": "code",
   "execution_count": null,
   "metadata": {
    "_cell_guid": "cd6bded9-35a7-478a-8616-9d37e7a2a783",
    "_uuid": "19bb827c7aa5a17feeef4dc368cc8da95cc9b09a",
    "collapsed": true
   },
   "outputs": [],
   "source": [
    "print(\"Making predictions for the following 5 houses:\")\n",
    "print(X.head())\n",
    "print(\"The predictions are\")\n",
    "print(melbourne_model.predict(X.head()))"
   ]
  },
  {
   "cell_type": "markdown",
   "metadata": {
    "_cell_guid": "ab6189e0-8a2c-4cc2-89dc-ac71ffac5e7c",
    "_uuid": "ee8a624a186babbcdc09655089ba2067e206118e"
   },
   "source": [
    "# Your Turn\n",
    "Try it out yourself in the **[Model Building Exercise](https://www.kaggle.com/fork/1259078)**\n",
    "\n",
    "\n",
    "---\n",
    "**[Course Home Page](https://www.kaggle.com/learn/machine-learning)**\n"
   ]
  }
 ],
 "metadata": {
  "kernelspec": {
   "display_name": "Python 3",
   "language": "python",
   "name": "python3"
  },
  "language_info": {
   "codemirror_mode": {
    "name": "ipython",
    "version": 3
   },
   "file_extension": ".py",
   "mimetype": "text/x-python",
   "name": "python",
   "nbconvert_exporter": "python",
   "pygments_lexer": "ipython3",
   "version": "3.6.1"
  }
 },
 "nbformat": 4,
 "nbformat_minor": 2
}
