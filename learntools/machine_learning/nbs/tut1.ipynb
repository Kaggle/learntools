{
 "cells": [
  {
   "cell_type": "markdown",
   "metadata": {
    "_cell_guid": "69a3a8be-b3cd-45b5-82bc-333e91e173bf",
    "_uuid": "fa74e8d20864d22e0c5622cdeb4d695bae301948"
   },
   "source": [
    "**[Machine Learning Course Home Page](kaggle.com/learn/machine-learning).**\n",
    "\n",
    "---\n",
    "# Introduction\n",
    "We'll start with an overview of how machine learning models work and how they are used. This may feel basic if you've done statistical modeling or machine learning before. Don't worry, we will progress to building powerful models soon.\n",
    "\n",
    "The course will have you build models for the following scenario:\n",
    "\n",
    "Your cousin has made millions of dollars speculating on real estate. He's offered to become business partners with you because of your interest in data science. He'll supply the money, and you'll supply models that predict how much various houses are worth.\n",
    "\n",
    "You ask your cousin how he's predicted real estate values in the past. and he says it is just intuition. But more questioning reveals that he's identified price patterns from houses he has seen in the past, and he uses those patterns to make predictions for new houses he is considering.\n",
    "\n",
    "Machine learning works the same way.  We'll start with a model called the Decision Tree. There are fancier models that give more accurate predictions. But decision trees are easy to understand, and they are the basic building block for some of the best models in data science.\n",
    "\n",
    "For simplicity, we'll start with the simplest possible decision tree. \n",
    "\n",
    "![First Decision Trees](http://i.imgur.com/7tsb5b1.png)\n",
    "\n",
    "It divides houses into only two categories. You predict the price of a new house by finding out which category it's in, and the prediction is the historical average price from that category.\n",
    "\n",
    "This captures the relationship between house size and price. We use data to decide how to break the houses into two groups,  and then again to determine the predicted price in each group.  This step of capturing patterns from data is called **fitting** or **training** the model. The data used to **fit** the model is called the **training data**.  \n",
    "\n",
    "The details of how the model is fit (e.g. how to split up the data) is complex enough that we will save it for later. After the model has been fit, you can apply it to new data to **predict** prices of additional homes.\n",
    "\n",
    "---\n",
    "# Example\n",
    "Which of the following two decisions trees is more likely to result from fitting the real estate training data?\n",
    "\n",
    "![First Decision Trees](http://i.imgur.com/prAjgku.png)\n",
    "\n",
    "---\n",
    "# Improving the Decision Tree\n",
    "\n",
    "The decision tree on the left (Decision Tree 1) probably makes more sense, because it captures the reality that houses with more bedrooms tend to sell at higher prices than houses with fewer bedrooms.  The biggest shortcoming of this model is that it doesn't capture most factors affecting home price, like number of bathrooms, lot size, location, etc. \n",
    "\n",
    "You can capture more factors using a tree that has more \"splits.\" These are called \"deeper\" trees. A decision tree that also considers the total size of each house's lot might look like this: \n",
    "![Depth 2 Tree](http://i.imgur.com/R3ywQsR.png)\n",
    "\n",
    "You predict the price of any house by tracing through the decision tree, always picking the path corresponding to that house's characteristics. The predicted price for the house is at the bottom of the tree.  The point at the bottom where we make a prediction is called a **leaf.**   \n",
    "\n",
    "The splits and values at the leaves will be determined by the data, so it's time for you to check out the data you will be working with.\n",
    "\n",
    "# Continue\n",
    "You will write code as part of an ongoing data science project for the rest of the tutorials. **[Click here](https://www.kaggle.com/dansbecker/starting-your-ml-project)** to get started."
   ]
  }
 ],
 "metadata": {
  "kernelspec": {
   "display_name": "Python 3",
   "language": "python",
   "name": "python3"
  },
  "language_info": {
   "codemirror_mode": {
    "name": "ipython",
    "version": 3
   },
   "file_extension": ".py",
   "mimetype": "text/x-python",
   "name": "python",
   "nbconvert_exporter": "python",
   "pygments_lexer": "ipython3",
   "version": "3.6.1"
  }
 },
 "nbformat": 4,
 "nbformat_minor": 2
}
