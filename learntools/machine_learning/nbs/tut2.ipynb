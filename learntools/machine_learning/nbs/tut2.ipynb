{
 "cells": [
  {
   "cell_type": "markdown",
   "metadata": {
    "_cell_guid": "5f1611b2-6aae-4694-9516-d7651880b314",
    "_uuid": "8c8591f89df1d36843546a8241150b966682d4c8"
   },
   "source": [
    "**[Machine Learning Course Home Page](kaggle.com/learn/machine-learning).**\n",
    "\n",
    "\n",
    "---\n",
    "\n",
    "# Starting Your Project\n",
    "\n",
    "You are about to build a simple model and then continually improve it.\n",
    "\n",
    "\n",
    "---\n",
    "# Using Pandas to Get Familiar With Your Data\n",
    "\n",
    "The first thing you'll want to do is familiarize yourself with the data.  You'll use the Pandas library for this.  Pandas is the primary tool that modern data scientists use for exploring and manipulating data.  Most people abbreviate pandas in their code as `pd`.  We do this with the command"
   ]
  },
  {
   "cell_type": "code",
   "execution_count": null,
   "metadata": {
    "_cell_guid": "1dde37af-64d3-45fc-b1b9-c300a1d49fc2",
    "_uuid": "0d9fdf505bc0a0c98d4f3d8bb5ef387f05cda426",
    "collapsed": true
   },
   "outputs": [],
   "source": [
    "import pandas as pd"
   ]
  },
  {
   "cell_type": "markdown",
   "metadata": {
    "_cell_guid": "b62d4ca0-38c8-4cbf-91f8-d5b95eb293fc",
    "_uuid": "390958537e6e6f663708b2d2cd4bd42b3a3d4cfd"
   },
   "source": [
    "The most important part of the Pandas library is the DataFrame.  A DataFrame holds the type of data you might think of as a table. This is similar to a sheet in Excel, or a table in a SQL database. The Pandas DataFrame has powerful methods for most things you'll want to do with this type of data.  Let's start by looking at a basic data overview with our example data from Melbourne and the data you'll be working with from Iowa.\n",
    "\n",
    "The example will use data at the file path **`../input/melbourne-housing-snapshot/melb_data.csv`**.  Your data will be available in your notebook at **`../input/house-prices-advanced-regression-techniques/train.csv`** (which is already typed into the sample code for you). **Remember that you will be using the Iowa data instead of the Melbourne data when writing your own code.**\n",
    "\n",
    "In the example data from Melbourne, we load and explore the data with the following:"
   ]
  },
  {
   "cell_type": "code",
   "execution_count": null,
   "metadata": {
    "_cell_guid": "051872bc-8ad1-4e9e-b9e2-af7ec905f9c5",
    "_uuid": "25c8f2fc298bb94a2c40075dff37f3fe3d132f4e",
    "collapsed": true
   },
   "outputs": [],
   "source": [
    "# save filepath to variable for easier access\n",
    "melbourne_file_path = '../input/melbourne-housing-snapshot/melb_data.csv'\n",
    "# read the data and store data in DataFrame titled melbourne_data\n",
    "melbourne_data = pd.read_csv(melbourne_file_path) \n",
    "# print a summary of the data in Melbourne data\n",
    "print(melbourne_data.describe())"
   ]
  },
  {
   "cell_type": "markdown",
   "metadata": {
    "_cell_guid": "5538ff34-3427-4cb5-a11d-30a6378a631e",
    "_uuid": "503ac4c159eb745678c4756aa8d1d2b81697be2a"
   },
   "source": [
    "# Interpreting Data Description\n",
    "The results show 8 numbers for each column in your original dataset. The first number, the **count**,  shows how many rows have non-missing values.  \n",
    "\n",
    "Missing values arise for many reasons. For example, the size of the 2nd bedroom wouldn't be collected when surveying a 1 bedroom house. We'll come back to the topic of missing data.\n",
    "\n",
    "The second value is the **mean**, which is the average.  Under that, **std** is the standard deviation, which measures how numerically spread out the values are.\n",
    "\n",
    "To interpret the **min**, **25%**, **50%**, **75%** and **max** values, imagine sorting each column from lowest to highest value.  The first (smallest) value is the min.  If you go a quarter way through the list, you'll find a number that is bigger than 25% of the values and smaller than 75% of the values.  That is the **25%** value (pronounced \"25th percentile\").  The 50th and 75th percentiles are defined analgously, and the **max** is the largest number.\n",
    "\n",
    "--- \n",
    "\n",
    "\n",
    "# Your Turn\n",
    "Get started with your **[first coding exercise](https://www.kaggle.com/kernels/fork/1258954)****\n",
    "\n",
    "---\n",
    "**[Course Home Page](https://www.kaggle.com/learn/machine-learning)**\n"
   ]
  }
 ],
 "metadata": {
  "kernelspec": {
   "display_name": "Python 3",
   "language": "python",
   "name": "python3"
  },
  "language_info": {
   "codemirror_mode": {
    "name": "ipython",
    "version": 3
   },
   "file_extension": ".py",
   "mimetype": "text/x-python",
   "name": "python",
   "nbconvert_exporter": "python",
   "pygments_lexer": "ipython3",
   "version": "3.6.1"
  }
 },
 "nbformat": 4,
 "nbformat_minor": 2
}
